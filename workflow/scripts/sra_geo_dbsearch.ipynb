{
 "cells": [
  {
   "cell_type": "code",
   "execution_count": null,
   "metadata": {},
   "outputs": [],
   "source": [
    "%pip install GEOparse\n",
    "%pip install pysradb"
   ]
  },
  {
   "cell_type": "code",
   "execution_count": null,
   "metadata": {},
   "outputs": [],
   "source": [
    "import pysradb\n",
    "import pandas as pd"
   ]
  },
  {
   "cell_type": "code",
   "execution_count": null,
   "metadata": {},
   "outputs": [],
   "source": [
    "srp_list = [\n",
    "    \"SRP057214\",\"SRP067879\",\"SRP076092\",\"SRP095521\",\"SRP103822\",\n",
    "    \"SRP104427\",\"SRP132878\",\"SRP128509\",\"SRP131887\",\"SRP164773\",\n",
    "    \"SRP153920\",\"SRP199944\",\"SRP201872\",\"SRP225676\",\"SRP251750\",\n",
    "    \"SRP286420\",\"SRP255727\",\"SRP250664\",\"SRP324876\",\"SRP330518\",\n",
    "    \"SRP339135\",\"SRP359061\",\"SRP374794\",\"SRP250379\",\"SRP413301\",\n",
    "    \"SRP378818\",\"SRP124850\",\"SRP316044\",\"SRP201609\",\"SRP359061\"\n",
    "    ]"
   ]
  },
  {
   "cell_type": "code",
   "execution_count": null,
   "metadata": {},
   "outputs": [],
   "source": [
    "bioproject = [\n",
    "    \"PRJNA281260\",\"PRJNA307178\",\"PRJNA324370\",\"PRJNA358485\",\"PRJNA382636\",\n",
    "    \"PRJNA383707\",\"PRJNA434118\",\"PRJNA429185\",\"PRJNA432384\",\"PRJNA495394\",\n",
    "    \"PRJNA481337\",\"PRJNA545540\",\"PRJNA549666\",\"PRJNA577587\",\"PRJNA610625\",\n",
    "    \"PRJNA667476\",\"PRJNA623860\",\"PRJNA608652\",\"PRJNA739695\",\"PRJNA750873\",\n",
    "    \"PRJNA767051\",\"PRJNA804872\",\"PRJNA837255\",\"PRJNA608124\",\"PRJNA912722\",\n",
    "    \"PRJNA844235\",\"PRJNA418134\",\"PRJNA724680\",\"PRJNA549258\",\"PRJNA804872\"    \n",
    "]"
   ]
  },
  {
   "cell_type": "code",
   "execution_count": null,
   "metadata": {},
   "outputs": [],
   "source": [
    "pubmed = [\n",
    "    \"25934506\",\"27036006\",\"27688757\",\"28167766\",\"28607059\",\n",
    "    \"28607063\",\"29581276\",\"29666379\",\"29735688\",\"30413533\",\n",
    "    \"30659176\",\"31217280\",\"31217280\",\"31624146\",\"32299912\",\n",
    "    \"33087442\",\"33771559\",\"34362292\",\"34375638\",\"34525225\",\n",
    "    \"35217627\",\"35339490\",\"35994676\",\"36155646\",\"36775124\",\n",
    "    \"36715337\",\"29282293\",\"34071702\",\"32355176\",\"35339490\"  \n",
    "]"
   ]
  },
  {
   "cell_type": "code",
   "execution_count": null,
   "metadata": {},
   "outputs": [],
   "source": [
    "import subprocess\n",
    "\n",
    "gse_list = []\n",
    "for srp in srp_list:\n",
    "    gse = subprocess.check_output([f\"pysradb srp-to-gse {srp}\"], shell=True)\n",
    "    gse_list.append(str(gse.strip().split()[-1]).split(\"'\")[1].replace(\"{}\",\"NA\"))"
   ]
  },
  {
   "cell_type": "code",
   "execution_count": null,
   "metadata": {},
   "outputs": [],
   "source": [
    "srp_geo_df = pd.DataFrame({'study_accession':srp_list, 'geo_accession':gse_list})"
   ]
  },
  {
   "cell_type": "code",
   "execution_count": null,
   "metadata": {},
   "outputs": [],
   "source": [
    "srp_df_all = pd.DataFrame()\n",
    "for srp in srp_list:\n",
    "    srp_df = pysradb.SRAweb().sra_metadata(srp)\n",
    "    srp_df_all = pd.concat([srp_df_all, srp_df], ignore_index = True)"
   ]
  },
  {
   "cell_type": "code",
   "execution_count": null,
   "metadata": {},
   "outputs": [],
   "source": [
    "drop_list = [\"sample_title\",\"experiment_desc\",\"library_name\",\"instrument_model\",\"instrument_model_desc\"]"
   ]
  },
  {
   "cell_type": "code",
   "execution_count": null,
   "metadata": {},
   "outputs": [],
   "source": [
    "srp_df_all_filt = srp_df_all.loc[srp_df_all.library_strategy.isin(['OTHER', 'WGS'])].drop(columns=drop_list).loc[~srp_df_all.experiment_title.str.contains('PADD-seq|EdU-seq')]"
   ]
  },
  {
   "cell_type": "code",
   "execution_count": null,
   "metadata": {},
   "outputs": [],
   "source": [
    "srp_df_all_filt = pd.merge(srp_df_all_filt, srp_geo_df, how='left', \n",
    "    on=['study_accession'])"
   ]
  },
  {
   "cell_type": "code",
   "execution_count": null,
   "metadata": {},
   "outputs": [],
   "source": [
    "srp_df_ordered = srp_df_all_filt.reindex(columns=[\n",
    "    'study_accession', 'geo_accession', 'experiment_accession', \n",
    "    'sample_accession', 'run_accession', 'experiment_title', \n",
    "    'organism_taxid', 'organism_name', 'library_strategy', 'library_source', \n",
    "    'library_selection', 'library_layout', 'instrument', 'total_spots',\n",
    "    'total_size', 'run_total_spots', 'run_total_bases'\n",
    "    ])"
   ]
  },
  {
   "cell_type": "code",
   "execution_count": null,
   "metadata": {},
   "outputs": [],
   "source": [
    "srp_df_all.to_csv(\"info.csv\")"
   ]
  },
  {
   "cell_type": "code",
   "execution_count": null,
   "metadata": {},
   "outputs": [],
   "source": [
    "df = pysradb.SRAweb().search_sra(search_str=\"xr-seq|damage-seq\")"
   ]
  },
  {
   "cell_type": "code",
   "execution_count": null,
   "metadata": {},
   "outputs": [],
   "source": [
    "import inspect\n",
    "lines = inspect.getsource(pysradb)\n",
    "\n",
    "print(lines)"
   ]
  },
  {
   "cell_type": "markdown",
   "metadata": {},
   "source": [
    "Practice other utilities"
   ]
  },
  {
   "cell_type": "code",
   "execution_count": null,
   "metadata": {},
   "outputs": [],
   "source": [
    "import GEOparse\n",
    "\n",
    "with open(\"info2.txt\", \"w\") as info:\n",
    "    gse = GEOparse.get_GEO(geo=\"GSE67941\", destdir=\"./\")\n",
    "\n",
    "    info.write(\"GSM example:\\n\")\n",
    "    for gsm_name, gsm in gse.gsms.items():\n",
    "        info.write(f\"Name: {gsm_name}\\n\")\n",
    "        info.write(\"Metadata:\\n\")\n",
    "        for key, value in gsm.metadata.items():\n",
    "            for val in value:\n",
    "                info.write(f\"{value}\\n\")\n",
    "\n",
    "    info.write(\"GPL example:\\n\")\n",
    "    for gpl_name, gpl in gse.gpls.items():\n",
    "        info.write(f\"Name: {gpl_name}\\n\")\n",
    "        info.write(\"Metadata:\\n\")\n",
    "        for key, value in gpl.metadata.items():\n",
    "            info.write(\" - %s : %s\\n\" % (key, \", \".join(value)))"
   ]
  },
  {
   "cell_type": "code",
   "execution_count": null,
   "metadata": {},
   "outputs": [],
   "source": [
    "gse = GEOparse.get_GEO(geo=\"GSE67941\", destdir=\"./\")\n",
    "\n",
    "gse.metadata.values()"
   ]
  },
  {
   "cell_type": "code",
   "execution_count": null,
   "metadata": {},
   "outputs": [],
   "source": [
    "!pysradb metadata SRP104427 --detailed > info3.txt"
   ]
  },
  {
   "cell_type": "code",
   "execution_count": null,
   "metadata": {},
   "outputs": [],
   "source": [
    "!pysradb metadata SRP104427 --detailed | awk '{print $1\",\"$2}'"
   ]
  },
  {
   "cell_type": "code",
   "execution_count": null,
   "metadata": {},
   "outputs": [],
   "source": [
    "!pysradb srp-to-gse SRP104427"
   ]
  },
  {
   "cell_type": "code",
   "execution_count": null,
   "metadata": {},
   "outputs": [],
   "source": [
    "db = pysradb.SRAweb()\n",
    "df = db.sra_metadata('SRP104427')\n",
    "df.head()"
   ]
  },
  {
   "cell_type": "code",
   "execution_count": null,
   "metadata": {},
   "outputs": [],
   "source": [
    "df_ds = db.search_sra(search_str=\"damage-seq\")\n",
    "len(df_ds[\"study_title\"].unique())"
   ]
  },
  {
   "cell_type": "code",
   "execution_count": null,
   "metadata": {},
   "outputs": [],
   "source": [
    "df_ds[\"study_title\"].unique()"
   ]
  },
  {
   "cell_type": "code",
   "execution_count": null,
   "metadata": {},
   "outputs": [],
   "source": [
    "df_xr = db.search_sra(search_str=\"XR-seq\")\n",
    "len(df_xr[\"study_title\"].unique())"
   ]
  },
  {
   "cell_type": "code",
   "execution_count": null,
   "metadata": {},
   "outputs": [],
   "source": [
    "df_xr[\"study_title\"].unique()"
   ]
  },
  {
   "cell_type": "code",
   "execution_count": null,
   "metadata": {},
   "outputs": [],
   "source": [
    "df_filt = df[[\"study_accession\", \"study_title\"]]\n",
    "df_filt.drop_duplicates()"
   ]
  }
 ],
 "metadata": {
  "kernelspec": {
   "display_name": "Python 3.5.2 64-bit",
   "language": "python",
   "name": "python3"
  },
  "language_info": {
   "name": "python",
   "version": "3.5.2"
  },
  "orig_nbformat": 4,
  "vscode": {
   "interpreter": {
    "hash": "31f2aee4e71d21fbe5cf8b01ff0e069b9275f58929596ceb00d14d90e3e16cd6"
   }
  }
 },
 "nbformat": 4,
 "nbformat_minor": 2
}
